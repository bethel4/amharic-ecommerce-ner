{
 "cells": [
  {
   "cell_type": "code",
   "execution_count": 3,
   "id": "b7afab09-e008-43f1-b736-f7c4824d1e79",
   "metadata": {},
   "outputs": [
    {
     "ename": "ModuleNotFoundError",
     "evalue": "No module named 'datasets'",
     "output_type": "error",
     "traceback": [
      "\u001b[0;31m---------------------------------------------------------------------------\u001b[0m",
      "\u001b[0;31mModuleNotFoundError\u001b[0m                       Traceback (most recent call last)",
      "Cell \u001b[0;32mIn[3], line 3\u001b[0m\n\u001b[1;32m      1\u001b[0m \u001b[38;5;28;01mimport\u001b[39;00m \u001b[38;5;21;01mos\u001b[39;00m\n\u001b[1;32m      2\u001b[0m \u001b[38;5;28;01mimport\u001b[39;00m \u001b[38;5;21;01mpandas\u001b[39;00m \u001b[38;5;28;01mas\u001b[39;00m \u001b[38;5;21;01mpd\u001b[39;00m\n\u001b[0;32m----> 3\u001b[0m \u001b[38;5;28;01mfrom\u001b[39;00m \u001b[38;5;21;01mdatasets\u001b[39;00m \u001b[38;5;28;01mimport\u001b[39;00m Dataset\n\u001b[1;32m      5\u001b[0m \u001b[38;5;28;01mdef\u001b[39;00m \u001b[38;5;21mparse_conll\u001b[39m(filepath):\n\u001b[1;32m      6\u001b[0m \u001b[38;5;250m    \u001b[39m\u001b[38;5;124;03m\"\"\"\u001b[39;00m\n\u001b[1;32m      7\u001b[0m \u001b[38;5;124;03m    Parse a CoNLL file into sentences and labels.\u001b[39;00m\n\u001b[1;32m      8\u001b[0m \u001b[38;5;124;03m    \"\"\"\u001b[39;00m\n",
      "\u001b[0;31mModuleNotFoundError\u001b[0m: No module named 'datasets'"
     ]
    }
   ],
   "source": [
    "import os\n",
    "import pandas as pd\n",
    "from datasets import Dataset\n",
    "\n",
    "def parse_conll(filepath):\n",
    "    \"\"\"\n",
    "    Parse a CoNLL file into sentences and labels.\n",
    "    \"\"\"\n",
    "    sentences, labels = [], []\n",
    "    with open(filepath, 'r', encoding='utf-8') as f:\n",
    "        words, tags = [], []\n",
    "        for line in f:\n",
    "            line = line.strip()\n",
    "            if not line or line.startswith('#'):\n",
    "                if words:\n",
    "                    sentences.append(words)\n",
    "                    labels.append(tags)\n",
    "                    words, tags = [], []\n",
    "                continue\n",
    "            splits = line.split()\n",
    "            if len(splits) == 2:\n",
    "                words.append(splits[0])\n",
    "                tags.append(splits[1])\n",
    "    if words:\n",
    "        sentences.append(words)\n",
    "        labels.append(tags)\n",
    "    return sentences, labels\n",
    "\n",
    "conll_path = '../data/processed/ner_sample.conll'\n",
    "sentences, labels = parse_conll(conll_path)\n",
    "print(f'Loaded {len(sentences)} sentences.')\n",
    "# Show a sample\n",
    "for i in range(2):\n",
    "    print('Sentence:', sentences[i])\n",
    "    print('Labels:', labels[i])"
   ]
  },
  {
   "cell_type": "code",
   "execution_count": 4,
   "id": "134e3200-3801-4afd-93cd-2426f6d4fa72",
   "metadata": {},
   "outputs": [
    {
     "name": "stdout",
     "output_type": "stream",
     "text": [
      "Name: datasets\n",
      "Version: 3.6.0\n",
      "Summary: HuggingFace community-driven open-source library of datasets\n",
      "Home-page: https://github.com/huggingface/datasets\n",
      "Author: HuggingFace Inc.\n",
      "Author-email: thomas@huggingface.co\n",
      "License: Apache 2.0\n",
      "Location: /home/bethel/Documents/10academy/amharic-ecommerce-ner/.venv/lib/python3.10/site-packages\n",
      "Requires: dill, filelock, fsspec, huggingface-hub, multiprocess, numpy, packaging, pandas, pyarrow, pyyaml, requests, tqdm, xxhash\n",
      "Required-by: \n"
     ]
    }
   ],
   "source": [
    "!pip show datasets\n"
   ]
  },
  {
   "cell_type": "code",
   "execution_count": null,
   "id": "96db32b0-3d35-4b33-afa2-05dec359a549",
   "metadata": {},
   "outputs": [],
   "source": []
  }
 ],
 "metadata": {
  "kernelspec": {
   "display_name": "Python 3 (ipykernel)",
   "language": "python",
   "name": "python3"
  },
  "language_info": {
   "codemirror_mode": {
    "name": "ipython",
    "version": 3
   },
   "file_extension": ".py",
   "mimetype": "text/x-python",
   "name": "python",
   "nbconvert_exporter": "python",
   "pygments_lexer": "ipython3",
   "version": "3.10.12"
  }
 },
 "nbformat": 4,
 "nbformat_minor": 5
}
